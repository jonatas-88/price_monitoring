{
 "cells": [
  {
   "cell_type": "code",
   "execution_count": null,
   "metadata": {},
   "outputs": [],
   "source": [
    "#TELEGRAM BOT\n",
    "import configparser\n",
    "#from telegram.ext import Updater, CommandHandler, MessageHandler, Filters\n",
    "from telegram import *\n",
    "from telegram.ext import *\n",
    "import logging\n",
    "#import telegram\n",
    "import os\n",
    "import requests\n",
    "import json\n",
    "import time\n",
    "import datetime\n",
    "import random\n",
    "import re\n",
    "import sys\n",
    "import subprocess\n",
    "import threading\n",
    "import urllib.request\n",
    "import urllib.parse\n",
    "import urllib.error"
   ]
  },
  {
   "cell_type": "code",
   "execution_count": null,
   "metadata": {},
   "outputs": [],
   "source": [
    "#IMPORT CONFIG FROM FILE .CONFIG\n",
    "config_file_name = 'price_monitoring.config'\n",
    "#cwd = os.path.dirname(sys.argv[0]) #working on linux server or windows python script\n",
    "cwd = os.getcwd() #working on windows during python notebook execution\n",
    "cfg = configparser.ConfigParser()\n",
    "ini_config_path = os.path.join(cwd,config_file_name)\n",
    "cfg.read(ini_config_path)\n",
    "bot_token = cfg['telegram_config']['bot_token']"
   ]
  },
  {
   "cell_type": "code",
   "execution_count": 7,
   "metadata": {},
   "outputs": [],
   "source": [
    "logging.basicConfig(\n",
    "    format='%(asctime)s - %(name)s - %(levelname)s - %(message)s', level=logging.INFO\n",
    ")\n",
    "logger = logging.getLogger(__name__)\n",
    "\n",
    "def start(update: Update, context: CallbackContext) -> None:\n",
    "    update.message.reply_text('Ola')\n",
    "\n",
    "def handle_message(update, context):\n",
    "    text = str(update.message.text).lower()\n",
    "    response = text_responses(text, update, context)\n",
    "    update.message.reply_text(response)\n",
    "\n",
    "def text_responses(input_text, update, context):\n",
    "    user_message = str(input_text).lower()\n",
    "    user_message_words_list = user_message.split()\n",
    "\n",
    "    table_key_words_list = [\n",
    "        'classificacao', 'classificação'\n",
    "        ]  \n",
    "\n",
    "    for word in user_message_words_list:\n",
    "        if word in table_key_words_list:\n",
    "            return 'Para saber'\n",
    "\n",
    "def help_command(update: Update, context: CallbackContext) -> None:\n",
    "    update.message.reply_text('Digite /start para saber mais sobre esse bot.')\n",
    "\n",
    "def error(update, context):\n",
    "  print(f'Update {update} caused error {context.error}')\n",
    "\n",
    "def main():\n",
    "    # Create the Updater and pass it your bot's token.\n",
    "    updater = Updater(bot_token)\n",
    "    updater.dispatcher.add_handler(CommandHandler('start', start))\n",
    "    updater.dispatcher.add_handler(CommandHandler('help', help_command))\n",
    "    updater.dispatcher.add_handler(MessageHandler(Filters.text, handle_message))\n",
    "    updater.dispatcher.add_error_handler(error)\n",
    "\n",
    "    # Start the Bot\n",
    "    updater.start_polling()\n",
    "\n",
    "    # Run the bot until the user presses Ctrl-C or the process receives SIGINT,\n",
    "    # SIGTERM or SIGABRT\n",
    "    updater.idle()\n",
    "\n",
    "if __name__ == '__main__':\n",
    "    main()"
   ]
  }
 ],
 "metadata": {
  "kernelspec": {
   "display_name": "Python 3.9.12 ('base')",
   "language": "python",
   "name": "python3"
  },
  "language_info": {
   "codemirror_mode": {
    "name": "ipython",
    "version": 3
   },
   "file_extension": ".py",
   "mimetype": "text/x-python",
   "name": "python",
   "nbconvert_exporter": "python",
   "pygments_lexer": "ipython3",
   "version": "3.9.12"
  },
  "orig_nbformat": 4,
  "vscode": {
   "interpreter": {
    "hash": "316e860a238c8892b0bc89caf8795812aa72b12f46a5ef18699767900e41eca6"
   }
  }
 },
 "nbformat": 4,
 "nbformat_minor": 2
}
