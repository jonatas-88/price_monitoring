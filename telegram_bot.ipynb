{
 "cells": [
  {
   "cell_type": "code",
   "execution_count": null,
   "metadata": {},
   "outputs": [],
   "source": [
    "#TELEGRAM BOT\n",
    "import configparser\n",
    "#from telegram.ext import Updater, CommandHandler, MessageHandler, Filters\n",
    "from telegram import *\n",
    "from telegram.ext import *\n",
    "import logging\n",
    "#import telegram\n",
    "import os\n",
    "import requests\n",
    "import json\n",
    "import time\n",
    "import datetime\n",
    "import random\n",
    "import re\n",
    "import sys\n",
    "import subprocess\n",
    "import threading\n",
    "import urllib.request\n",
    "import urllib.parse\n",
    "import urllib.error\n",
    "import re"
   ]
  },
  {
   "cell_type": "code",
   "execution_count": null,
   "metadata": {},
   "outputs": [],
   "source": [
    "#IMPORT CONFIG FROM FILE .CONFIG\n",
    "config_file_name = 'price_monitoring.config'\n",
    "#cwd = os.path.dirname(sys.argv[0]) #working on linux server or windows python script\n",
    "cwd = os.getcwd() #working on windows during python notebook execution\n",
    "cfg = configparser.ConfigParser()\n",
    "ini_config_path = os.path.join(cwd,config_file_name)\n",
    "cfg.read(ini_config_path)\n",
    "bot_token = cfg['telegram_config']['bot_token']"
   ]
  },
  {
   "cell_type": "code",
   "execution_count": 3,
   "metadata": {},
   "outputs": [],
   "source": [
    "logging.basicConfig(\n",
    "    format='%(asctime)s - %(name)s - %(levelname)s - %(message)s', level=logging.INFO\n",
    ")\n",
    "logger = logging.getLogger(__name__)\n",
    "\n",
    "def start(update: Update, context: CallbackContext) -> None:\n",
    "    update.message.reply_text('Ola')\n",
    "\n",
    "def handle_message(update: Update, context: CallbackContext) -> None:\n",
    "    text = str(update.message.text).lower()\n",
    "    print(f'HANDLE_MESSAGE Update {update}')\n",
    "    response = text_responses(text, update, context)\n",
    "    #update.message.reply_text(response)\n",
    "\n",
    "def handle_url(update: Update, context: CallbackContext) -> None:\n",
    "    url = get_url(str(update.message.text).lower())\n",
    "    print(f'HANDLE_URL Update {update}')\n",
    "    update.message.reply_text(f\"Encontrei o link {url} na sua mensagem, deseja cadastrar e informar preco alvo?\")\n",
    "\n",
    "def text_responses(input_text, update: Update, context: CallbackContext) -> None:\n",
    "    user_message = str(input_text).lower()\n",
    "\n",
    "    if get_url(user_message):\n",
    "        url = get_url(user_message)\n",
    "        update.message.reply_text(text= f\"Encontrei o link {url} na sua mensagem, deseja cadastrar e informar preco alvo?\", reply_markup=ForceReply(True))\n",
    "        return url\n",
    "    else:\n",
    "        update.message.reply_text('Não encontramos nenhum link na sua mensagem, tente novamente.')\n",
    "        return None\n",
    "\n",
    "def help_command(update: Update, context: CallbackContext) -> None:\n",
    "    update.message.reply_text('Digite /start para saber mais sobre esse bot.')\n",
    "\n",
    "def error(update: Update, context: CallbackContext) -> None:\n",
    "  print(f'Update {update} caused error {context.error}')\n",
    "\n",
    "\n",
    "def get_url(text):\n",
    "    try:\n",
    "        url = re.search(r'(https?://[^\\s]+)', text).group(1)\n",
    "    except:\n",
    "        url = None\n",
    "    return url\n",
    "\n",
    "def main():\n",
    "    # Create the Updater and pass it your bot's token.\n",
    "    updater = Updater(bot_token)\n",
    "    updater.dispatcher.add_handler(CommandHandler('start', start))\n",
    "    updater.dispatcher.add_handler(CommandHandler('help', help_command))\n",
    "    updater.dispatcher.add_handler(MessageHandler(Filters.text, handle_message))\n",
    "    #updater.dispatcher.add_handler(MessageHandler(Filters.entity('url'), handle_url))\n",
    "    updater.dispatcher.add_error_handler(error)\n",
    "\n",
    "    # Start the Bot\n",
    "    updater.start_polling()\n",
    "\n",
    "    # Run the bot until the user presses Ctrl-C or the process receives SIGINT,\n",
    "    # SIGTERM or SIGABRT\n",
    "    updater.idle()\n",
    "\n",
    "if __name__ == '__main__':\n",
    "    main()"
   ]
  },
  {
   "cell_type": "code",
   "execution_count": null,
   "metadata": {},
   "outputs": [],
   "source": []
  },
  {
   "cell_type": "code",
   "execution_count": null,
   "metadata": {},
   "outputs": [],
   "source": [
    "#FUNCTION USING REGEX TO GET URL FROM TEXT\n",
    "\n",
    "text='Esse texto aqui tem o link: http://www.coupang.com/vp/products/4978269600?isAddedCart= que eu quero copiar, http://www.coupang.com/vp/products'\n",
    "text2='Esse texto aqui tem o link:  que eu quero copiar'\n",
    "\n",
    "def get_url(text):\n",
    "    try:\n",
    "        url = re.search(r'(https?://[^\\s]+)', text).group(1)\n",
    "    except:\n",
    "        url = None\n",
    "    return url\n",
    "\n"
   ]
  },
  {
   "cell_type": "code",
   "execution_count": null,
   "metadata": {},
   "outputs": [],
   "source": [
    "get_url(text) is not None"
   ]
  },
  {
   "cell_type": "code",
   "execution_count": null,
   "metadata": {},
   "outputs": [],
   "source": [
    "link_c = get_url(text)\n",
    "link_c"
   ]
  },
  {
   "cell_type": "code",
   "execution_count": null,
   "metadata": {},
   "outputs": [],
   "source": [
    "re.search(r'(https?://[^\\s]+)', text).group(1)"
   ]
  },
  {
   "cell_type": "code",
   "execution_count": null,
   "metadata": {},
   "outputs": [],
   "source": []
  }
 ],
 "metadata": {
  "kernelspec": {
   "display_name": "Python 3.9.12 ('base')",
   "language": "python",
   "name": "python3"
  },
  "language_info": {
   "codemirror_mode": {
    "name": "ipython",
    "version": 3
   },
   "file_extension": ".py",
   "mimetype": "text/x-python",
   "name": "python",
   "nbconvert_exporter": "python",
   "pygments_lexer": "ipython3",
   "version": "3.9.12"
  },
  "orig_nbformat": 4,
  "vscode": {
   "interpreter": {
    "hash": "316e860a238c8892b0bc89caf8795812aa72b12f46a5ef18699767900e41eca6"
   }
  }
 },
 "nbformat": 4,
 "nbformat_minor": 2
}
