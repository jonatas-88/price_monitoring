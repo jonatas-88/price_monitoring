{
 "cells": [
  {
   "cell_type": "code",
   "execution_count": null,
   "metadata": {},
   "outputs": [],
   "source": [
    "#TELEGRAM BOT\n",
    "import configparser\n",
    "from telegram.ext import Updater, CommandHandler, MessageHandler, Filters\n",
    "import logging\n",
    "import telegram\n",
    "import os\n",
    "import requests\n",
    "import json\n",
    "import time\n",
    "import datetime\n",
    "import random\n",
    "import re\n",
    "import sys\n",
    "import subprocess\n",
    "import threading\n",
    "import urllib.request\n",
    "import urllib.parse\n",
    "import urllib.error"
   ]
  },
  {
   "cell_type": "code",
   "execution_count": null,
   "metadata": {},
   "outputs": [],
   "source": [
    "#IMPORT CONFIG FROM FILE .CONFIG\n",
    "config_file_name = 'price_monitoring.config'\n",
    "#cwd = os.path.dirname(sys.argv[0]) #working on linux server or windows python script\n",
    "cwd = os.getcwd() #working on windows during python notebook execution\n",
    "cfg = configparser.ConfigParser()\n",
    "ini_config_path = os.path.join(cwd,config_file_name)\n",
    "cfg.read(ini_config_path)\n",
    "bot_token = cfg['telegram_config']['bot_token']"
   ]
  },
  {
   "cell_type": "code",
   "execution_count": null,
   "metadata": {},
   "outputs": [],
   "source": [
    "#TELEGRAM BOT\n",
    "updater = Updater(token=bot_token)\n",
    "dispatcher = updater.dispatcher\n",
    "logging.basicConfig(format='%(asctime)s - %(name)s - %(levelname)s - %(message)s', level=logging.INFO)\n",
    "\n",
    "#FUNCTION START\n",
    "def start(bot, update):\n",
    "    bot.send_message(chat_id=update.message.chat_id, text=\"I'm a bot, please talk to me!\")\n",
    "\n",
    "#FUNCTION HELP\n",
    "def help(bot, update):\n",
    "    bot.send_message(chat_id=update.message.chat_id, text=\"I'm a bot, please talk to me!\")\n",
    "\n",
    "#FUNCTION ECHO\n",
    "def echo(bot, update):\n",
    "    bot.send_message(chat_id=update.message.chat_id, text=update.message.text)\n",
    "\n",
    "#FUNCTION ERROR HANDLER\n",
    "def error(bot, update, error):\n",
    "    logging.warning('Update \"%s\" caused error \"%s\"' % (update, error))\n",
    "\n",
    "#MAIN FUNCTION\n",
    "def main():\n",
    "    dp = updater.dispatcher\n",
    "    dp.add_handler(CommandHandler(\"start\", start))\n",
    "    dp.add_handler(CommandHandler(\"help\", help))\n",
    "    dp.add_handler(MessageHandler(Filters.text, echo))\n",
    "    dp.add_error_handler(error)\n",
    "    updater.start_polling()\n",
    "    updater.idle()"
   ]
  }
 ],
 "metadata": {
  "kernelspec": {
   "display_name": "Python 3.9.13 64-bit (microsoft store)",
   "language": "python",
   "name": "python3"
  },
  "language_info": {
   "name": "python",
   "version": "3.9.13"
  },
  "orig_nbformat": 4,
  "vscode": {
   "interpreter": {
    "hash": "59f0617734f8e50410e195d283de377ed9d593ae6e4eefe353054cb1dcfc1d4a"
   }
  }
 },
 "nbformat": 4,
 "nbformat_minor": 2
}
