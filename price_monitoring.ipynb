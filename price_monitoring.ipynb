{
 "cells": [
  {
   "cell_type": "code",
   "execution_count": null,
   "metadata": {},
   "outputs": [],
   "source": [
    "import update_prices_functions as upf"
   ]
  },
  {
   "cell_type": "code",
   "execution_count": null,
   "metadata": {},
   "outputs": [],
   "source": [
    "#URL SAMPLE LIST TO TEST\n",
    "url_list = [\n",
    "    r'https://www.coupang.com/vp/products/6366671555?isAddedCart=',\n",
    "    r'https://www.coupang.com/vp/products/5056493492?isAddedCart=',\n",
    "    r'https://www.coupang.com/vp/products/5835511110?isAddedCart=',\n",
    "    r'https://www.coupang.com/vp/products/6060667011?isAddedCart=',\n",
    "    r'https://www.coupang.com/vp/products/2530237?isAddedCart=',\n",
    "    r'https://www.coupang.com/vp/products/266030794?isAddedCart=',\n",
    "    r'https://www.coupang.com/vp/products/4978269600?isAddedCart='\n",
    "]\n",
    "\n",
    "upf.register_price_from_url_list(url_list)"
   ]
  },
  {
   "cell_type": "code",
   "execution_count": null,
   "metadata": {},
   "outputs": [],
   "source": [
    "#UPDATE ALL PRICES LISTED INTO DATABASE\n",
    "upf.update_db_prices()"
   ]
  },
  {
   "cell_type": "code",
   "execution_count": null,
   "metadata": {},
   "outputs": [],
   "source": []
  }
 ],
 "metadata": {
  "kernelspec": {
   "display_name": "Python 3.9.13 ('base')",
   "language": "python",
   "name": "python3"
  },
  "language_info": {
   "codemirror_mode": {
    "name": "ipython",
    "version": 3
   },
   "file_extension": ".py",
   "mimetype": "text/x-python",
   "name": "python",
   "nbconvert_exporter": "python",
   "pygments_lexer": "ipython3",
   "version": "3.9.13"
  },
  "orig_nbformat": 4,
  "vscode": {
   "interpreter": {
    "hash": "0dcada5a056d2e9047555b54603c432568229c7d32d7d0ecd78b6088269c1d79"
   }
  }
 },
 "nbformat": 4,
 "nbformat_minor": 2
}
