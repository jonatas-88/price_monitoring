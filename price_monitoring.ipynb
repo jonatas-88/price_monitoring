{
 "cells": [
  {
   "cell_type": "code",
   "execution_count": 8,
   "metadata": {},
   "outputs": [],
   "source": [
    "import os\n",
    "import sys\n",
    "from datetime import datetime\n",
    "from time import sleep\n",
    "from selenium import webdriver\n",
    "import configparser\n",
    "import database_functions as dbf\n",
    "import locale\n"
   ]
  },
  {
   "cell_type": "code",
   "execution_count": 9,
   "metadata": {},
   "outputs": [],
   "source": [
    "#IMPORT CONFIG FROM FILE .CONFIG\n",
    "config_file_name = 'price_monitoring.config'\n",
    "locale.setlocale(locale.LC_ALL, \"ko_KR.UTF-8\")\n",
    "#cwd = os.path.dirname(sys.argv[0]) #working on linux server or windows python script\n",
    "cwd = os.getcwd() #working on windows during python notebook execution\n",
    "cfg = configparser.ConfigParser()\n",
    "ini_config_path = os.path.join(cwd,config_file_name)\n",
    "cfg.read(ini_config_path)\n",
    "driver_path_chrome = cfg['general_config']['driver_path_chrome']\n",
    "driver_path_edge = cfg['general_config']['driver_path_edge']\n",
    "database = cfg['database_config']['database']\n"
   ]
  },
  {
   "cell_type": "code",
   "execution_count": 10,
   "metadata": {},
   "outputs": [],
   "source": [
    "#FUNCTION TO GET PRICE FROM WEBPAGE\n",
    "def get_price(driver):\n",
    "    xpath_price = '/html/body/div[2]/section/div[1]/div/div[3]/div[5]/div[1]/div/div[2]/span[1]/strong'\n",
    "    price_content = driver.find_element_by_xpath(xpath_price).text\n",
    "    try:\n",
    "        price_content = price_content.replace('원', '')\n",
    "    except:\n",
    "        price_content = price_content\n",
    "    price = locale.atof(price_content)\n",
    "    return price\n",
    "\n",
    "#FUNCTION TO GET PRICE FROM WEBPAGE\n",
    "def get_image(driver):\n",
    "    xpath_image = '/html/body/div[2]/section/div[1]/div/div[1]/div[1]/img'\n",
    "    image_content = driver.find_element_by_xpath(xpath_image).get_attribute('src')\n",
    "    return image_content\n"
   ]
  },
  {
   "cell_type": "code",
   "execution_count": 11,
   "metadata": {},
   "outputs": [
    {
     "name": "stdout",
     "output_type": "stream",
     "text": [
      "Table prices created\n"
     ]
    }
   ],
   "source": [
    "#CONNECT TO DATABASE AND CREATE TABLE IF IT DOESN'T EXIST\n",
    "conn, cur = dbf.connect_to_database(database)\n",
    "columns = \"price REAL, time_utc_now TEXT, image_link TEXT, link TEXT\"\n",
    "table_name = \"prices\"\n",
    "dbf.create_table(conn, cur, table_name, columns)\n"
   ]
  },
  {
   "cell_type": "code",
   "execution_count": 12,
   "metadata": {},
   "outputs": [],
   "source": [
    "#URL TO SCRAPE\n",
    "url_list = [\n",
    "    r'https://www.coupang.com/vp/products/6366671555?isAddedCart=',\n",
    "    r'https://www.coupang.com/vp/products/5056493492?isAddedCart=',\n",
    "    r'https://www.coupang.com/vp/products/5835511110?isAddedCart=',\n",
    "    r'https://www.coupang.com/vp/products/6060667011?isAddedCart=',\n",
    "    r'https://www.coupang.com/vp/products/2530237?isAddedCart=',\n",
    "    r'https://www.coupang.com/vp/products/266030794?isAddedCart=',\n",
    "    r'https://www.coupang.com/vp/products/4978269600?isAddedCart='\n",
    "]\n",
    "price_list = []\n"
   ]
  },
  {
   "cell_type": "code",
   "execution_count": 13,
   "metadata": {},
   "outputs": [
    {
     "name": "stdout",
     "output_type": "stream",
     "text": [
      "Data inserted\n",
      "Data inserted\n",
      "Data inserted\n",
      "Data inserted\n",
      "Data inserted\n",
      "Data inserted\n"
     ]
    },
    {
     "data": {
      "text/plain": [
       "[{'price': 88900.0,\n",
       "  'time_utc_now': '20220823091621',\n",
       "  'image_link': 'https://thumbnail7.coupangcdn.com/thumbnails/remote/492x492ex/image/vendor_inventory/d6e2/022a1986626056c183a71149d2306a170c7f6b98e56ea7c791a1b4b56405.jpg',\n",
       "  'link': 'https://www.coupang.com/vp/products/6366671555?isAddedCart='},\n",
       " {'price': 285850.0,\n",
       "  'time_utc_now': '20220823091630',\n",
       "  'image_link': 'https://thumbnail7.coupangcdn.com/thumbnails/remote/492x492ex/image/vendor_inventory/ed86/4001ed4983e31ddf4cd47b6d4474f704176d705acb4d38396112f6927b8e.jpg',\n",
       "  'link': 'https://www.coupang.com/vp/products/5056493492?isAddedCart='},\n",
       " {'price': 359080.0,\n",
       "  'time_utc_now': '20220823091638',\n",
       "  'image_link': 'https://thumbnail8.coupangcdn.com/thumbnails/remote/492x492ex/image/rs_quotation_api/wbtmcqhf/bdbc164b0ae24596be7eb9b3669df725.jpg',\n",
       "  'link': 'https://www.coupang.com/vp/products/5835511110?isAddedCart='},\n",
       " {'price': 945990.0,\n",
       "  'time_utc_now': '20220823091645',\n",
       "  'image_link': 'https://thumbnail7.coupangcdn.com/thumbnails/remote/492x492ex/image/retail/images/2021/08/27/11/9/01e8c313-bd81-4e96-ab72-cccb79b67ba9.jpg',\n",
       "  'link': 'https://www.coupang.com/vp/products/6060667011?isAddedCart='},\n",
       " {'price': 24410.0,\n",
       "  'time_utc_now': '20220823091654',\n",
       "  'image_link': 'https://thumbnail9.coupangcdn.com/thumbnails/remote/492x492ex/image/vendor_inventory/5175/6caf8d0af45840f4bc2cbc7abed0193505d70346f3a54afbaef2f749750b.jpg',\n",
       "  'link': 'https://www.coupang.com/vp/products/2530237?isAddedCart='},\n",
       " {'price': 398900.0,\n",
       "  'time_utc_now': '20220823091710',\n",
       "  'image_link': 'https://thumbnail9.coupangcdn.com/thumbnails/remote/492x492ex/image/retail/images/7960910557974183-8ffb32e2-8c0e-4358-b2e2-c27847ceed47.jpg',\n",
       "  'link': 'https://www.coupang.com/vp/products/4978269600?isAddedCart='}]"
      ]
     },
     "execution_count": 13,
     "metadata": {},
     "output_type": "execute_result"
    }
   ],
   "source": [
    "#LOOP THROUGH URLS AND SCRAPE PRICES\n",
    "for url in url_list:\n",
    "    driver = webdriver.Edge(driver_path_edge)\n",
    "\n",
    "    try:\n",
    "        driver.get(url)\n",
    "        sleep(0.5)\n",
    "        price = get_price(driver)\n",
    "        time_utc_now = datetime.utcnow().strftime(\"%Y%m%d%H%M%S\")\n",
    "        image_link = get_image(driver)\n",
    "        link = url\n",
    "\n",
    "        data = str(price) + \",'\" + time_utc_now + \"','\" + image_link + \"','\" + link + \"'\"\n",
    "\n",
    "        act_dict = {\n",
    "            'price': price,\n",
    "            'time_utc_now': time_utc_now,\n",
    "            'image_link': image_link,\n",
    "            'link': link\n",
    "            }\n",
    "        price_list.append(act_dict)\n",
    "        \n",
    "        dbf.insert_data(conn, cur, table_name, data)\n",
    "    except:\n",
    "        pass\n",
    "\n",
    "    driver.quit()\n",
    "    sleep(1)\n",
    "price_list"
   ]
  },
  {
   "cell_type": "code",
   "execution_count": 14,
   "metadata": {},
   "outputs": [
    {
     "name": "stdout",
     "output_type": "stream",
     "text": [
      "Connection closed\n"
     ]
    }
   ],
   "source": [
    "#CLOSE CONNECTION TO DATABASE\n",
    "dbf.close_connection(conn)\n"
   ]
  },
  {
   "cell_type": "code",
   "execution_count": null,
   "metadata": {},
   "outputs": [],
   "source": []
  },
  {
   "cell_type": "code",
   "execution_count": null,
   "metadata": {},
   "outputs": [],
   "source": []
  }
 ],
 "metadata": {
  "kernelspec": {
   "display_name": "Python 3.9.12 ('base')",
   "language": "python",
   "name": "python3"
  },
  "language_info": {
   "codemirror_mode": {
    "name": "ipython",
    "version": 3
   },
   "file_extension": ".py",
   "mimetype": "text/x-python",
   "name": "python",
   "nbconvert_exporter": "python",
   "pygments_lexer": "ipython3",
   "version": "3.9.12"
  },
  "orig_nbformat": 4,
  "vscode": {
   "interpreter": {
    "hash": "316e860a238c8892b0bc89caf8795812aa72b12f46a5ef18699767900e41eca6"
   }
  }
 },
 "nbformat": 4,
 "nbformat_minor": 2
}
