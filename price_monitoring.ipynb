{
 "cells": [
  {
   "cell_type": "code",
   "execution_count": null,
   "metadata": {},
   "outputs": [],
   "source": [
    "import database_functions as dbf\n",
    "import webscraping_functions as wsf\n",
    "import configparser"
   ]
  },
  {
   "cell_type": "code",
   "execution_count": null,
   "metadata": {},
   "outputs": [],
   "source": [
    "config_file_name = 'price_monitoring.config'\n",
    "#cwd = os.path.dirname(sys.argv[0]) #working on linux server or windows python script\n",
    "cwd = os.getcwd() #working on windows during python notebook execution\n",
    "cfg = configparser.ConfigParser()\n",
    "ini_config_path = os.path.join(cwd,config_file_name)\n",
    "cfg.read(ini_config_path)\n",
    "database = cfg['database_config']['database']\n",
    "link_prefix = cfg['general_config']['link_prefix']\n",
    "link_sufix = cfg['general_config']['link_sufix']"
   ]
  },
  {
   "cell_type": "code",
   "execution_count": null,
   "metadata": {},
   "outputs": [],
   "source": [
    "#criar atividade que varre todos os produtos cadastrados em todos os DBs de usuarios e compilar novos precos, atualizando o db de precos"
   ]
  },
  {
   "cell_type": "code",
   "execution_count": null,
   "metadata": {},
   "outputs": [],
   "source": [
    "#FUNCTION TO READ ALL TABLES FROM SQLITE.DB AND TABLE NAME STARTS WITH \"USER\"\n",
    "def read_all_tables(database):\n",
    "    #read all tables from sqlite.db\n",
    "    tables = dbf.read_all_tables(database)\n",
    "    #filter tables with user id\n",
    "    tables = [table[0] for table in tables if table[0].startswith('user')]\n",
    "    return tables\n",
    "\n",
    "#FUNCTION TO READ ALL PRODUCT ID FROM ALL TABLES\n",
    "def read_all_product_id(database):\n",
    "    tables = read_all_tables(database)\n",
    "    product_id_list = []\n",
    "    for table in tables:\n",
    "        conn, cur = dbf.connect_to_database(database)\n",
    "        query = \"SELECT product_id FROM {}\".format(table)\n",
    "        data = dbf.select_data(conn, cur, query)\n",
    "        dbf.close_connection(conn)\n",
    "        product_id_list += [row[0] for row in data]\n",
    "    product_id_list = list(set(product_id_list))\n",
    "    return product_id_list\n",
    "\n",
    "#FUNCTION TO GENERATE URL LIST FROM PRODUCT ID\n",
    "def generate_url_list(product_id_list):\n",
    "    url_list = [link_prefix + str(product_id) + link_sufix for product_id in product_id_list]\n",
    "    return url_list\n",
    "\n",
    "#FUNCTION TO REGISTER PRICES FROM URL LIST\n",
    "def register_price_from_url(url_list):\n",
    "    result_list = []\n",
    "    price_list = []\n",
    "    for url in url_list:\n",
    "        product_data, product_dict = wsf.get_product_info(url)\n",
    "        price_list.append(product_dict)\n",
    "        result = wsf.register_price_into_db(product_data)\n",
    "        # if result:\n",
    "        #     print('Price registered into database')\n",
    "        # else:\n",
    "        #     print('Price not registered into database for item: ' + url)\n",
    "        result_list.append(result)\n",
    "    return result_list, price_list"
   ]
  },
  {
   "cell_type": "code",
   "execution_count": null,
   "metadata": {},
   "outputs": [],
   "source": [
    "# #URL SAMPLE LIST\n",
    "# url_list = [\n",
    "#     r'https://www.coupang.com/vp/products/6366671555?isAddedCart=',\n",
    "#     r'https://www.coupang.com/vp/products/5056493492?isAddedCart=',\n",
    "#     r'https://www.coupang.com/vp/products/5835511110?isAddedCart=',\n",
    "#     r'https://www.coupang.com/vp/products/6060667011?isAddedCart=',\n",
    "#     r'https://www.coupang.com/vp/products/2530237?isAddedCart=',\n",
    "#     r'https://www.coupang.com/vp/products/266030794?isAddedCart=',\n",
    "#     r'https://www.coupang.com/vp/products/4978269600?isAddedCart='\n",
    "# ]\n",
    "# price_list = []"
   ]
  },
  {
   "cell_type": "code",
   "execution_count": null,
   "metadata": {},
   "outputs": [],
   "source": [
    "product_id_list = read_all_product_id(database)\n",
    "url_list = generate_url_list(product_id_list)\n",
    "result_list, price_list = register_price_from_url(url_list)"
   ]
  },
  {
   "cell_type": "code",
   "execution_count": null,
   "metadata": {},
   "outputs": [],
   "source": [
    "result_list"
   ]
  },
  {
   "cell_type": "code",
   "execution_count": null,
   "metadata": {},
   "outputs": [],
   "source": [
    "price_list"
   ]
  }
 ],
 "metadata": {
  "kernelspec": {
   "display_name": "Python 3.9.12 ('base')",
   "language": "python",
   "name": "python3"
  },
  "language_info": {
   "codemirror_mode": {
    "name": "ipython",
    "version": 3
   },
   "file_extension": ".py",
   "mimetype": "text/x-python",
   "name": "python",
   "nbconvert_exporter": "python",
   "pygments_lexer": "ipython3",
   "version": "3.9.13"
  },
  "orig_nbformat": 4,
  "vscode": {
   "interpreter": {
    "hash": "316e860a238c8892b0bc89caf8795812aa72b12f46a5ef18699767900e41eca6"
   }
  }
 },
 "nbformat": 4,
 "nbformat_minor": 2
}
