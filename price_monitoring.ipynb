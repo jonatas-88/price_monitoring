{
 "cells": [
  {
   "cell_type": "code",
   "execution_count": null,
   "metadata": {},
   "outputs": [],
   "source": [
    "import update_prices_functions as upf"
   ]
  },
  {
   "cell_type": "code",
   "execution_count": null,
   "metadata": {},
   "outputs": [],
   "source": [
    "#URL SAMPLE LIST TO TEST\n",
    "url_list = [\n",
    "    r'https://www.coupang.com/vp/products/6366671555?isAddedCart=',\n",
    "    r'https://www.coupang.com/vp/products/5056493492?isAddedCart=',\n",
    "    r'https://www.coupang.com/vp/products/5835511110?isAddedCart=',\n",
    "    r'https://www.coupang.com/vp/products/6060667011?isAddedCart=',\n",
    "    r'https://www.coupang.com/vp/products/2530237?isAddedCart=',\n",
    "    r'https://www.coupang.com/vp/products/266030794?isAddedCart=',\n",
    "    r'https://www.coupang.com/vp/products/4978269600?isAddedCart='\n",
    "]\n",
    "\n",
    "upf.register_price_from_url_list(url_list)"
   ]
  },
  {
   "cell_type": "code",
   "execution_count": null,
   "metadata": {},
   "outputs": [],
   "source": [
    "#UPDATE ALL PRICES LISTED INTO DATABASE\n",
    "upf.update_db_prices()"
   ]
  }
 ],
 "metadata": {
  "kernelspec": {
   "display_name": "Python 3.9.12 ('base')",
   "language": "python",
   "name": "python3"
  },
  "language_info": {
   "codemirror_mode": {
    "name": "ipython",
    "version": 3
   },
   "file_extension": ".py",
   "mimetype": "text/x-python",
   "name": "python",
   "nbconvert_exporter": "python",
   "pygments_lexer": "ipython3",
   "version": "3.9.13"
  },
  "orig_nbformat": 4,
  "vscode": {
   "interpreter": {
    "hash": "316e860a238c8892b0bc89caf8795812aa72b12f46a5ef18699767900e41eca6"
   }
  }
 },
 "nbformat": 4,
 "nbformat_minor": 2
}
