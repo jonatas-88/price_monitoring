{
 "cells": [
  {
   "cell_type": "code",
   "execution_count": null,
   "metadata": {},
   "outputs": [],
   "source": [
    "import os\n",
    "import sys\n",
    "import update_prices_functions as upf\n",
    "import send_message as sm"
   ]
  },
  {
   "cell_type": "code",
   "execution_count": null,
   "metadata": {},
   "outputs": [],
   "source": [
    "import configparser\n",
    "\n",
    "config_file_name = 'price_monitoring.config'\n",
    "#cwd = os.path.dirname(sys.argv[0]) #working on linux server or windows python script\n",
    "cwd = os.getcwd() #working on windows during python notebook execution\n",
    "cfg = configparser.ConfigParser()\n",
    "ini_config_path = os.path.join(cwd,config_file_name)\n",
    "cfg.read(ini_config_path)\n",
    "database = cfg['database_config']['database']"
   ]
  },
  {
   "cell_type": "code",
   "execution_count": null,
   "metadata": {},
   "outputs": [],
   "source": [
    "#URL SAMPLE LIST TO TEST\n",
    "url_list = [\n",
    "    r'https://www.coupang.com/vp/products/6366671555?isAddedCart=',\n",
    "    r'https://www.coupang.com/vp/products/5056493492?isAddedCart=',\n",
    "    r'https://www.coupang.com/vp/products/5835511110?isAddedCart=',\n",
    "    r'https://www.coupang.com/vp/products/6060667011?isAddedCart=',\n",
    "    r'https://www.coupang.com/vp/products/2530237?isAddedCart=',\n",
    "    r'https://www.coupang.com/vp/products/266030794?isAddedCart=',\n",
    "    r'https://www.coupang.com/vp/products/4978269600?isAddedCart='\n",
    "]\n",
    "\n",
    "upf.register_price_from_url_list(url_list)"
   ]
  },
  {
   "cell_type": "code",
   "execution_count": null,
   "metadata": {},
   "outputs": [],
   "source": [
    "#UPDATE ALL PRICES LISTED INTO DATABASE\n",
    "upf.update_db_prices()"
   ]
  },
  {
   "cell_type": "code",
   "execution_count": null,
   "metadata": {},
   "outputs": [],
   "source": [
    "#SEND MESSAGE TO USERS WITH PRODUCTS WITH PRICE LOWER THAN TARGET PRICE\n",
    "sm.send_message_to_users(database)"
   ]
  },
  {
   "cell_type": "code",
   "execution_count": null,
   "metadata": {},
   "outputs": [],
   "source": []
  }
 ],
 "metadata": {
  "kernelspec": {
   "display_name": "Python 3.9.13 ('base')",
   "language": "python",
   "name": "python3"
  },
  "language_info": {
   "codemirror_mode": {
    "name": "ipython",
    "version": 3
   },
   "file_extension": ".py",
   "mimetype": "text/x-python",
   "name": "python",
   "nbconvert_exporter": "python",
   "pygments_lexer": "ipython3",
   "version": "3.9.13"
  },
  "orig_nbformat": 4,
  "vscode": {
   "interpreter": {
    "hash": "0dcada5a056d2e9047555b54603c432568229c7d32d7d0ecd78b6088269c1d79"
   }
  }
 },
 "nbformat": 4,
 "nbformat_minor": 2
}
